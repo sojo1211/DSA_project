{
  "cells": [
    {
      "cell_type": "markdown",
      "metadata": {
        "id": "r3p5wt6r4LBT"
      },
      "source": [
        "1-107_ERP.zip 파일을 압축 해제하여, 해당 3개의 데이터 파일을 불러와 아래의 분석을 실시하시오.\n",
        "해당 데이터는 생필품을 납품하는 회사의 ERP Enterprise Resource Planning(전사적 자원 관리)에서 발생한, 유통 관련 데이터이다.\n",
        "07_ERP.zip 파일을 압축 해제하여, 해당 3개의 데이터를 불러와 아래와 같이 변환 하시오.\n",
        "\n",
        "기간은 파일 상단에 적힌 기간월을 작성\n",
        "Column 명 '합계'는 앞에 공백이 존재 ' 합계'"
      ]
    },
    {
      "cell_type": "code",
      "execution_count": null,
      "metadata": {
        "id": "-O0cnQwzqWe-"
      },
      "outputs": [],
      "source": [
        "import numpy as np\n",
        "import pandas as pd\n",
        "# 코렙\n",
        "from google.colab import files\n",
        "from google.colab import drive\n",
        "\n",
        "# Google Drive 마운트\n",
        "drive.mount('/content/drive')\n",
        "data1=pd.read_excel('/content/drive/MyDrive/DSA/기간별상품매출현황_202306.xlsx',skiprows=2)\n",
        "\n",
        "data1=data1.iloc[2:] #앞의 두 열 버리기\n",
        "df1= data1.melt(id_vars=data1.columns[0:4]) # 남길 컬럼들 id_vars에 저장\n",
        "\n",
        "df1.rename(columns = {'variable':'지점','value':'판매량'},inplace=True)\n",
        "df1['기간']='6월'\n",
        "df1.head()\n",
        "\n",
        "\n",
        "\n",
        "data2=pd.read_excel('/content/drive/MyDrive/DSA/기간별상품매출현황_202307.xlsx',skiprows=2)\n",
        "\n",
        "data2=data2.iloc[2:] #앞의 두 열 버리기\n",
        "df2= data2.melt(id_vars=data2.columns[0:4]) # 남길 컬럼들 id_vars에 저장\n",
        "\n",
        "df2.rename(columns = {'variable':'지점','value':'판매량'},inplace=True) #열 이름 수정\n",
        "df2['기간']='7월' #기간 추가\n",
        "df2.head()\n",
        "\n",
        "\n",
        "data3=pd.read_excel('/content/drive/MyDrive/DSA/기간별상품매출현황_202308.xlsx',skiprows=2)\n",
        "\n",
        "data3=data3.iloc[2:] #앞의 두 열 버리기\n",
        "df3= data3.melt(id_vars=data3.columns[0:4]) # 남길 컬럼들 id_vars에 저장\n",
        "\n",
        "df3.rename(columns = {'variable':'지점','value':'판매량'},inplace=True) #열 이름 수정\n",
        "df3['기간']='8월' #기간 추가\n",
        "df3.head()\n"
      ]
    },
    {
      "cell_type": "markdown",
      "metadata": {
        "id": "uSQKEpa3rD-k"
      },
      "source": [
        "\n",
        "#1-2. 지점' 중 '판매량'의 합이 가장 높은 2개 지점을 확인하시오."
      ]
    },
    {
      "cell_type": "code",
      "execution_count": null,
      "metadata": {
        "id": "wNLrFEFCq79j"
      },
      "outputs": [],
      "source": [
        "# 두 데이터 테이블 병합 pd.merge()/ on = 키 column / how = 병합전략\n",
        "\n",
        "m1=pd.merge(df1,df2,on=['순번','상품코드','상품명','지점','기간','판매량',' 합계'],how='outer')\n",
        "df=pd.merge(m1,df3,on=['순번','상품코드','상품명','지점','기간','판매량',' 합계'],how='outer')\n",
        "\n",
        "df\n",
        "\n",
        "# 저는 concat를 몰랐어서,, merge로 두 번 합쳤습니다 성준님 all data랑 제 df랑 같은 데이터프레임 같아요\n",
        "\n",
        "#1-2. 지점' 중 '판매량'의 합이 가장 높은 2개 지점을 확인하시오.\n",
        "\n",
        "#'지점'별 '판매량'의 '합'을 Pivot table로 계산해\n",
        "#'판매량' 기준 내림순으로 정리한 다음\n",
        "#'판매량'이 가장 높은 2개 지점\n",
        "# '지점'별 '판매량'의 합을 계산하고 내림차순으로 정렬하여 상위 2개 지점 선택\n",
        "top_2_stores = df.pivot_table(index='지점', values='판매량', aggfunc='sum').sort_values(by='판매량', ascending=False).head(2)\n",
        "print(top_2_stores)\n"
      ]
    },
    {
      "cell_type": "markdown",
      "metadata": {
        "id": "_Fr5ahZwrddf"
      },
      "source": [
        "#1-3. 앞서 확인한, 2개의 지점의 '판매량'에 대해 각각 정규성 검정을 수행하고, 결론을 작성하시오\n"
      ]
    },
    {
      "cell_type": "code",
      "execution_count": null,
      "metadata": {
        "id": "MOJd0Iv7rbdH"
      },
      "outputs": [],
      "source": [
        "#1-3. 앞서 확인한, 2개의 지점의 '판매량'에 대해 각각 정규성 검정을 수행하고, 결론을 작성하시오\n",
        "from scipy import stats\n",
        "# 1-1.'부천점'의 판매량과 '안양점'의 판매량에 대해 정규성 검정을 수행한다.\n",
        "# 귀무가설 : 해당 숫자 데이터의 분포는 정규분포를 따른다\n",
        "# 대립가설 : 해당 숫자 데이터의 분포는 정규분포를 따르지 않는다\n",
        "\n",
        "cond1=(df['지점']=='(610)부천점')\n",
        "df_1st=df.loc[cond1]\n",
        "df_1st['판매량']=pd.to_numeric(df_1st['판매량'],errors='coerce')\n",
        "\n",
        "cond2=(df['지점']=='(600)안양점')\n",
        "df_2st=df.loc[cond2]\n",
        "df_2st['판매량']=pd.to_numeric(df_2st['판매량'],errors='coerce')\n",
        "\n",
        "p1=stats.normaltest(df_1st['판매량'])\n",
        "#P.value < 0.05(5%) / 대립가설 참 /해당 숫자 데이터의 분포는 정규분포를 따르지 않는다\n",
        "p2=stats.normaltest(df_2st['판매량'])\n",
        "#P.value < 0.05(5%) / 대립가설 참 /해당 숫자 데이터의 분포는 정규분포를 따르지 않는다\n",
        "print('(610)부천점판매량은?',p1)\n",
        "print('(600)안양점판매량은?',p2)"
      ]
    },
    {
      "cell_type": "markdown",
      "metadata": {
        "id": "0ezC6bYmSqjG"
      },
      "source": [
        "#1-4앞서 확인한, 2개의 지점의 '판매량'의 대표값(중앙값)의 차이를 계산하고자 한다. 가설을 수립하고, Rank Sum Test를 이용해 가설검정을 수행하시오 ."
      ]
    },
    {
      "cell_type": "code",
      "execution_count": null,
      "metadata": {
        "id": "qEQSz4TESjvY"
      },
      "outputs": [],
      "source": [
        "import pandas as pd\n",
        "from scipy import stats\n",
        "\n",
        "# 데이터 준비\n",
        "# df는 앞서 병합한 데이터프레임입니다.\n",
        "# 상위 2개 지점의 이름을 가져옵니다.\n",
        "top_stores = df.pivot_table(index='지점', values='판매량', aggfunc='sum').sort_values(by='판매량', ascending=False).head(2)\n",
        "\n",
        "# 각 지점의 '판매량' 데이터를 loc를 사용하여 추출합니다.\n",
        "data_store1 = df.loc[df['지점'] == top_stores.index[0], '판매량']\n",
        "data_store2 = df.loc[df['지점'] == top_stores.index[1], '판매량']\n",
        "\n",
        "# 중앙값 계산\n",
        "median_store1 = data_store1.median()\n",
        "median_store2 = data_store2.median()\n",
        "median_difference = median_store1 - median_store2 #여기까지 오케이\n",
        "\n",
        "print(f\"{top_stores.index[0]}의 중앙값: {median_store1}, {top_stores.index[1]}의 중앙값: {median_store2}\")\n",
        "print(f\"중앙값의 차이: {median_difference}\")\n",
        "\n",
        "# Rank Sum Test 수행\n",
        "stat, p_value = stats.ranksums(data_store1.dropna(), data_store2.dropna())\n",
        "print(f\"Rank Sum Test Statistic: {stat}, p-value: {p_value}\")\n",
        "\n",
        "# p-value를 통해 귀무가설을 기각할 수 있는지 확인\n",
        "alpha = 0.05\n",
        "if p_value < alpha:\n",
        "    print(\"귀무가설을 기각합니다. 두 지점의 중앙값은 차이가 있습니다.\")\n",
        "else:\n",
        "    print(\"귀무가설을 기각할 수 없습니다. 두 지점의 중앙값은 차이가 없습니다.\")\n"
      ]
    },
    {
      "cell_type": "markdown",
      "metadata": {
        "id": "3zap92BXSxEz"
      },
      "source": [
        "1-5앞서 확인한, 2개의 지점의 '판매량'의 Histogram을 Plotly라이브러리로 시각화 하시오.\n",
        "\n"
      ]
    },
    {
      "cell_type": "code",
      "execution_count": null,
      "metadata": {
        "collapsed": true,
        "id": "87B1NFf7ltzd"
      },
      "outputs": [],
      "source": [
        "import plotly.express as px #동적 시각화\n",
        "import pandas as pd\n",
        "# 판매량이 가장 높은 상위 2개 지점 추출\n",
        "top_stores = df.pivot_table(index='지점', values='판매량', aggfunc='sum').sort_values(by='판매량', ascending=False).head(2)\n",
        "\n",
        "# 각 지점의 '판매량' 데이터를 loc를 사용하여 추출합니다.\n",
        "data_store1 = df.loc[df['지점'] == top_stores.index[0], '판매량']\n",
        "data_store2 = df.loc[df['지점'] == top_stores.index[1], '판매량']\n",
        "\n",
        "# 지점 정보를 포함한 DataFrame 생성\n",
        "store1_df = pd.DataFrame({'지점': top_stores.index[0], '판매량': data_store1})\n",
        "store2_df = pd.DataFrame({'지점': top_stores.index[1], '판매량': data_store2})\n",
        "\n",
        "# 두 DataFrame을 병합합니다.\n",
        "combined_data = pd.concat([store1_df, store2_df], ignore_index=True)\n",
        "\n",
        "# 결과 확인\n",
        "print(combined_data)\n",
        "\n",
        "\n"
      ]
    },
    {
      "cell_type": "code",
      "execution_count": null,
      "metadata": {
        "collapsed": true,
        "id": "LsUekR2t-KfZ"
      },
      "outputs": [],
      "source": [
        "px.histogram(combined_data,x='판매량',color='지점',barmode='group')"
      ]
    },
    {
      "cell_type": "markdown",
      "metadata": {
        "id": "tCgYStNyS38j"
      },
      "source": [
        "1-6'기간'별 가장 '판매량'의 '합'이 높은 '지점'을 확인하고, 특정 '기간' (월)을 입력했을 때, 해당 월의 '지점' 별 '판매량'의 합을 result_{월}.xlsx로 저장하는 함수를 생성하시오.\n",
        "\n"
      ]
    },
    {
      "cell_type": "code",
      "execution_count": null,
      "metadata": {
        "id": "_drMDdNjeRRV"
      },
      "outputs": [],
      "source": [
        "all_data = pd.concat([df1, df2, df3])\n",
        "all_data\n",
        "# 기간별로 판매량 합계 계산\n",
        "sales_by_period = all_data.groupby(['기간', '지점'])['판매량'].sum().reset_index()\n",
        "\n",
        "# 각 기간별로 판매량 합계가 가장 높은 지점 찾기\n",
        "top_locations = sales_by_period.loc[sales_by_period.groupby('기간')['판매량'].idxmax()]\n",
        "\n",
        "# 결과 출력\n",
        "for index, row in top_locations.iterrows():\n",
        "    print(f\"기간: {row['기간']}, 지점: {row['지점']}, 판매량: {row['판매량']}\")"
      ]
    },
    {
      "cell_type": "code",
      "execution_count": null,
      "metadata": {
        "id": "ek6kpa-WjG_n"
      },
      "outputs": [],
      "source": [
        "\n",
        "# 특정 기간의 판매량을 출력하는 함수\n",
        "def print_sales_by_period(month):\n",
        "    # 입력된 월에 해당하는 데이터 필터링\n",
        "    filtered_data = top_locations[top_locations['기간'] == month]\n",
        "\n",
        "    # 결과 출력\n",
        "    if not filtered_data.empty:\n",
        "        for index, row in filtered_data.iterrows():\n",
        "            print(f\"지점: {row['지점']} 판매량: {row['판매량']}\")\n",
        "    else:\n",
        "        print(f\"{month}에 해당하는 데이터가 없습니다.\")\n",
        "\n",
        "# 사용자로부터 특정 기간 (월) 입력 받기\n",
        "user_input = input(\"판매량을 확인할 기간을 입력하세요 (예: 6월): \")\n",
        "print_sales_by_period(user_input)  # 사용자가 입력한 월로 호출\n"
      ]
    },
    {
      "cell_type": "code",
      "execution_count": null,
      "metadata": {
        "id": "ApLVnBeUG0_S"
      },
      "outputs": [],
      "source": [
        "import pandas as pd\n",
        "\n",
        "# 특정 기간의 판매량을 출력하고 DataFrame을 반환하는 함수\n",
        "def print_sales_by_period(month):\n",
        "    # 입력된 월에 해당하는 데이터 필터링\n",
        "    filtered_data = top_locations[top_locations['기간'] == month]\n",
        "\n",
        "    # 결과 출력\n",
        "    if not filtered_data.empty:\n",
        "        for index, row in filtered_data.iterrows():\n",
        "            print(f\"지점: {row['지점']} 판매량: {row['판매량']}\")\n",
        "    else:\n",
        "        print(f\"{month}에 해당하는 데이터가 없습니다.\")\n",
        "\n",
        "    return filtered_data  # 필터링된 데이터를 반환\n",
        "\n",
        "# 사용자로부터 특정 기간 (월) 입력 받기\n",
        "user_input = input(\"판매량을 확인할 기간을 입력하세요 (예: 6월): \")\n",
        "filtered_data = print_sales_by_period(user_input)  # 사용자가 입력한 월로 호출\n",
        "\n",
        "# 필터링된 데이터가 있을 경우 Excel 파일로 저장\n",
        "if not filtered_data.empty:\n",
        "    filtered_data.to_excel(f'result_{user_input}.xlsx', index=False)\n",
        "    print(f\"{user_input}에 해당하는 데이터가 result_{user_input}.xlsx로 저장되었습니다.\")\n",
        "    files.download(f'result_{user_input}.xlsx')\n"
      ]
    },
    {
      "cell_type": "markdown",
      "metadata": {
        "id": "aOns25jaS5Qf"
      },
      "source": [
        "1-7'상품명'에 '마스크'와'휴지' 제품을 나누어 분석하고자 한다. 상품명을 '휴지'와 '마스크'로 분류한 뒤, (나머지는 '기타') '상품분류'라는 파생변수를 만들어, 두 상품의 '판매량'의 대표값의 차이를 가설 검정 하시오."
      ]
    },
    {
      "cell_type": "code",
      "execution_count": null,
      "metadata": {
        "id": "-FNSThAZ81-m"
      },
      "outputs": [],
      "source": [
        "m1=pd.merge(df1,df2,on=['순번','상품코드','상품명','지점','기간','판매량',' 합계'],how='outer')\n",
        "df=pd.merge(m1,df3,on=['순번','상품코드','상품명','지점','기간','판매량',' 합계'],how='outer')\n",
        "\n",
        "df\n",
        "\n",
        "# 저는 concat를 몰랐어서,, merge로 두 번 합쳤습니다 성준님 all data랑 제 df랑 같은 데이터프레임 같아요\n",
        "\n",
        "#1-2. 지점' 중 '판매량'의 합이 가장 높은 2개 지점을 확인하시오.\n",
        "\n",
        "#'지점'별 '판매량'의 '합'을 Pivot table로 계산해\n",
        "#'판매량' 기준 내림순으로 정리한 다음\n",
        "#'판매량'이 가장 높은 2개 지점\n",
        "# '지점'별 '판매량'의 합을 계산하고 내림차순으로 정렬하여 상위 2개 지점 선택\n",
        "cond1=(df['상품명']=='마스크')\n",
        "df.loc[cond1]\n",
        "cond1=(df['상품명']=='휴지')\n",
        "df.loc[cond1]\n",
        "df['상품분류']=df['상품명'].apply(lambda x:'마스크' if '마스크' in x else ('휴지' if '휴지' in x else '기타')) #상품분류 후 파생변수 생성\n",
        "\n",
        "#'상품분류'별 '판매량'의 '대표값'을 pivot table로 계산\n",
        "df.pivot_table(index='상품분류',values='판매량',aggfunc='mean')"
      ]
    },
    {
      "cell_type": "markdown",
      "metadata": {
        "id": "l8ehmtFgEDrP"
      },
      "source": [
        "아래는 CRM(Customer Relationship Management) 데이터에서 주로 사용하는 RFM 분석을 수행한 데이터이다.\n",
        "\n",
        "RFM 분석\n",
        "\n",
        "RFM 분석은 고객 세분화를 위한 효과적인 도구로 사용되는 마케팅 분석 방법\n",
        "\n",
        "RFM은 Recency(최근성), Frequency(빈도), Monetary(금액)의 약어로, 이 세 가지 요소를 기반으로 고객을 분류하고 타겟팅하는 방법\n",
        "\n",
        "Recency(최근성): 고객이 얼마나 최근에 구매를 했는지 (Recency 값이 낮으면 자주 방문하는 고객)\n",
        "Frequency(빈도): 고객이 일정 기간 동안 얼마나 자주 구매를 하는지\n",
        "Monetary(금액): 고객이 일정 기간 동안 얼마나 많은 금액을 소비했는지\n",
        "각 R / F / M 값을 계산하여, 최종점수를 합산 -> 합산된 점수를 이용해 고객 분할\n",
        "\n",
        "환산점수로 분할 : 특정 기준 값을 정하고 고객 세그먼트\n",
        "사분범위로 분할 : Quantile 값을 기준으로 고객 세그먼트\n",
        "#'11_Data.csv' 데이터를 이용해, 최근성(Recency_int와)가 가장 높은 상위 10% 고객들의 성비와 평균 나이를 계산하시오."
      ]
    },
    {
      "cell_type": "markdown",
      "metadata": {
        "id": "bcPUWAZsMcNp"
      },
      "source": [
        "2-1'11_Data.csv'데이터는 포장용기를 판매하는 회사에서 발생한 데이터이며, 포장용기를 온라인으로 구매한 고객들의 정보가 담긴 데이터이다."
      ]
    },
    {
      "cell_type": "code",
      "execution_count": null,
      "metadata": {
        "id": "R5oJlfGQEC_f"
      },
      "outputs": [],
      "source": [
        "df=pd.read_csv('/content/drive/MyDrive/DSA/11_Data (1).csv')"
      ]
    },
    {
      "cell_type": "code",
      "execution_count": null,
      "metadata": {
        "id": "4U9zu01sDqVj"
      },
      "outputs": [],
      "source": [
        "df"
      ]
    },
    {
      "cell_type": "code",
      "execution_count": null,
      "metadata": {
        "id": "l3ViMMXOYI0v"
      },
      "outputs": [],
      "source": [
        "# 최근성(Recency_int) 기준으로 상위 10% 고객 선정\n",
        "top_10_percent_threshold = df['Recency_int'].quantile(0.9)  # 상위 10%는 90번째 백분위수\n",
        "top_customers = df[df['Recency_int'] >= top_10_percent_threshold]\n",
        "\n",
        "# 성비 계산\n",
        "gender_counts = top_customers['성별'].value_counts()  # 'gender' 열의 성비 계산\n",
        "gender_ratio = gender_counts / gender_counts.sum()  # 성비 비율 계산\n",
        "\n",
        "# 평균 나이 계산\n",
        "average_age = top_customers['나이'].mean()  # 'age' 열의 평균 나이 계산\n",
        "\n",
        "# 결과 출력\n",
        "print(\"상위 10% 고객 성비:\")\n",
        "print(gender_ratio)\n",
        "print(f\"상위 10% 고객 평균 나이: {average_age:.2f}\")"
      ]
    },
    {
      "cell_type": "markdown",
      "metadata": {
        "id": "EOJwh1tXUgNK"
      },
      "source": [
        "2-2금액(Monetary)이 높은 1000명의 데이터를 추출하여, '사업자구분'에서 '개인'과 '사업자'간 주기성(Frequency)의 평균의 차이가 있는지 검정하시오."
      ]
    },
    {
      "cell_type": "code",
      "execution_count": null,
      "metadata": {
        "id": "4xnuKnIOfk4v"
      },
      "outputs": [],
      "source": [
        "df.sort_values(by='Monetary', ascending=False).head(1000).reset_index() # Monetary 값을 기준으로 내림차순 정렬\n"
      ]
    },
    {
      "cell_type": "code",
      "execution_count": null,
      "metadata": {
        "id": "KqT4l5KBiqUg"
      },
      "outputs": [],
      "source": [
        "df_1000=df.sort_values(by='Monetary', ascending=False).head(1000).reset_index() # Monetary 값을 기준으로 내림차순 정렬\n",
        "\n",
        "print(df_1000)"
      ]
    },
    {
      "cell_type": "markdown",
      "metadata": {
        "id": "G3EMQZsgk5vj"
      },
      "source": [
        "![캡처3.PNG](data:image/png;base64,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)"
      ]
    },
    {
      "cell_type": "code",
      "execution_count": null,
      "metadata": {
        "id": "qErxZAdOgckj"
      },
      "outputs": [],
      "source": [
        "import pandas as pd\n",
        "from scipy import stats\n",
        "#'사업자구분'에서 '개인'과 '사업자'\n",
        "cond1=(df_1000['사업자구분']=='개인')\n",
        "cond1=df_1000.loc[cond1]\n",
        "cond2=(df_1000['사업자구분']=='사업자')\n",
        "cond2=df_1000.loc[cond2]\n",
        "\n",
        "\n",
        "# '개인'과 '사업자' 그룹의 Frequency 데이터 추출\n",
        "cond1 = df_1000[df_1000['사업자구분'] == '개인']['Frequency']  #f_1000[df_1000와 같은 표현은 일반적으로 Pandas 라이브러리를 사용하는\n",
        "#Python 코드에서 DataFrame을 필터링하는 방식입니다.\n",
        "#이 표현에서 df_1000은 DataFrame의 이름이고, 대괄호 안에 있는 조건은 해당 DataFrame에서 특정 조건을 만족하는 행을 선택하는 데 사용됩니다.\n",
        "#예를 들어, df_1000[df_1000['column_name'] > value]와 같은 형태로 사용될 수 있습니다.\n",
        "#여기서 df_1000은 DataFrame이고, 대괄호 안의 조건은 df_1000의 특정 열(column_name)의 값이 value보다 큰 행을 선택하는 것입니다.\n",
        "cond2 = df_1000[df_1000['사업자구분'] == '사업자']['Frequency']\n",
        "\n",
        "# t-검정 수행\n",
        "t_stat, p_value = stats.ttest_ind(cond1, cond2)\n",
        "\n",
        "# 결과 출력\n",
        "print(f\"T-statistic: {t_stat}, P-value: {p_value}\")\n",
        "\n",
        "# 유의수준 설정 (예: 0.05)\n",
        "alpha = 0.05\n",
        "if p_value < alpha:\n",
        "    print(\"두 그룹 간의 주기성(Frequency)의 평균 차이가 통계적으로 유의미합니다.\")\n",
        "else:\n",
        "    print(\"두 그룹 간의 주기성(Frequency)의 평균 차이가 통계적으로 유의미하지 않습니다.\")\n",
        "\n",
        "\n"
      ]
    },
    {
      "cell_type": "markdown",
      "metadata": {
        "id": "1lABIu4yUmZp"
      },
      "source": [
        "2-3최근성(Recency_int와)과 금액(Monetary)간의 상관성을 확인하고자 한다. 성별에 따른 최근성과 금액의 산점도를 시각화 하고, 최근성과 금액 간 상관성이 있는지 가설 검정을 수행하시오."
      ]
    },
    {
      "cell_type": "markdown",
      "source": [],
      "metadata": {
        "id": "TaO6NFCSxhJM"
      }
    },
    {
      "cell_type": "code",
      "execution_count": null,
      "metadata": {
        "collapsed": true,
        "id": "Co_bIh6plTfX"
      },
      "outputs": [],
      "source": [
        "df_1000"
      ]
    },
    {
      "cell_type": "code",
      "execution_count": null,
      "metadata": {
        "id": "-6XEhNjyl0ZE",
        "collapsed": true
      },
      "outputs": [],
      "source": [
        "import scipy.stats as stats #검정\n",
        "import matplotlib.pyplot as plt\n",
        "import seaborn as sns #동적 시각화\n",
        "\n",
        "# 산점도 시각화\n",
        "sns.scatterplot(df, x='Recency_int', y='Monetary', hue='성별')\n",
        "plt.title('성별에 따른 최근성과 금액의 산점도')\n",
        "plt.xlabel('최근성 (Recency_int)')\n",
        "plt.ylabel('금액 (Monetary)')"
      ]
    },
    {
      "cell_type": "code",
      "source": [
        "# 최근성과 금액 데이터\n",
        "recency = df['Recency_int']\n",
        "monetary = df['Monetary']\n",
        "\n",
        "# 피어슨 상관계수 및 p-값 계산\n",
        "correlation_coefficient, p_value = stats.pearsonr(recency, monetary)\n",
        "\n",
        "# 결과 출력\n",
        "print(f'피어슨 상관계수: {correlation_coefficient}')\n",
        "print(f'p-값: {p_value}')\n",
        "\n",
        "# 결론 도출\n",
        "alpha = 0.05  # 유의수준\n",
        "if p_value < alpha:\n",
        "    print(\"귀무가설을 기각합니다. 최근성과 금액 간에 상관관계가 있습니다.\")\n",
        "else:\n",
        "    print(\"귀무가설을 채택합니다. 최근성과 금액 간에 상관관계가 없습니다.\")"
      ],
      "metadata": {
        "id": "qLMmm2fcxijK"
      },
      "execution_count": null,
      "outputs": []
    },
    {
      "cell_type": "markdown",
      "metadata": {
        "id": "cBOmARhrUuP1"
      },
      "source": [
        "2-4유입경로'의 빈도수가 가장 높은 항목에 대해 Recency_int와 Frequency, Monetary의 기술 통계량을 계산하시오."
      ]
    },
    {
      "cell_type": "code",
      "execution_count": null,
      "metadata": {
        "id": "7hkbJslwmrJc"
      },
      "outputs": [],
      "source": [
        "data.value_counts('유입경로')\n",
        "\n",
        "# '유입경로'의 빈도수가 가장 높은 항목 = '블로그 광고'\n",
        "\n",
        "cond1=(data['유입경로']=='블로그광고')\n",
        "data_inflow_path=data.loc[cond1]\n",
        "\n",
        "data_inflow_path.pivot_table(index='유입경로',values=['Recency_int','Frequency','Monetary'],\n",
        "                             aggfunc=['mean','median','std'])"
      ]
    },
    {
      "cell_type": "markdown",
      "source": [],
      "metadata": {
        "id": "_qBShnZxZP3D"
      }
    },
    {
      "cell_type": "markdown",
      "metadata": {
        "id": "-BjNzjRFUwiQ"
      },
      "source": [
        "2-5회원가입일과 최종접속일 데이터를 이용해 '접속기간'이라는 파생 변수를 생성하고, '접속기간'이 가장 오래된 100명의 고객 명단을 뽑아 result_vip_member.xlsx로 저장"
      ]
    },
    {
      "cell_type": "code",
      "source": [
        "import pandas as pd\n",
        "\n",
        "# 최종접속일 데이터의 오전-> AM, 오후->PM 으로 변환\n",
        "data['최종접속일'] = data['최종접속일'].str.replace('오전', 'AM').str.replace('오후', 'PM')\n",
        "# 날짜 변환 (format을 명확히 지정)\n",
        "data['최종접속일'] = pd.to_datetime(data['최종접속일'], format=\"%Y-%m-%d %p %I:%M\", errors='coerce')\n",
        "# 최종접속일 데이터에서 시간 데이터 제거\n",
        "data['최종접속일'] = data['최종접속일'].dt.floor('D')\n",
        "\n",
        "# 날짜 데이터로 변경\n",
        "data['회원 가입일']=pd.to_datetime(data['회원 가입일'])\n",
        "\n",
        "# '접속기간' 파생변수 생성\n",
        "data['접속기간']=data['최종접속일']-data['회원 가입일']\n",
        "\n",
        "\n",
        "# '접속기간' 데이터를 내림차순으로 정렬\n",
        "# 상위 100명 추출 후 파일로 저장\n",
        "data.sort_values(by='접속기간',ascending=False).head(100).to_excel('result_vip_member.xlsx')"
      ],
      "metadata": {
        "id": "ik6w_-T6zapx"
      },
      "execution_count": null,
      "outputs": []
    },
    {
      "cell_type": "code",
      "execution_count": null,
      "metadata": {
        "id": "JRZd3dNSn086"
      },
      "outputs": [],
      "source": [
        "# 2. 접속기간 계산\n",
        "#df['회원 가입일'] = pd.to_datetime(df['회원 가입일'])\n",
        "#df['최종접속일'] = pd.to_datetime(df['최종접속일'])\n",
        "#df['접속기간'] = (df['최종접속일'] - df['회원 가입일']).dt.days\n",
        "\n",
        "# 3. 접속기간 기준으로 정렬 후 상위 100명 추출\n",
        "#oldest_members = df.nsmallest(100, '접속기간')\n",
        "\n",
        "# 4. Excel 파일로 저장\n",
        "#oldest_members.to_excel('result_vip_member.xlsx', index=False)"
      ]
    },
    {
      "cell_type": "code",
      "source": [
        "#import pandas as pd\n",
        "\n",
        "# 1. 데이터 불러오기\n",
        "\n",
        "\n",
        "# 2. 접속기간 계산\n",
        "# '회원가입일'과 '최종접속일'의 형식을 변환\n",
        "#df['회원  가입일'] = pd.to_datetime(df['회원 가입일'].str.replace('오후', 'PM').str.replace('오전', 'AM'), format='%Y-%m-%d %p %I:%M')\n",
        "#df['최종접속일'] = pd.to_datetime(df['최종접속일'].str.replace('오후', 'PM').str.replace('오전', 'AM'), format='%Y-%m-%d %p %I:%M')\n",
        "\n",
        "# '접속기간' 계산\n",
        "#df['접속기간'] = (df['최종접속일'] - df['회원가입일']).dt.days\n",
        "\n",
        "# 3. 접속기간 기준으로 정렬 후 상위 100명 추출\n",
        "#oldest_members = df.nsmallest(100, '접속기간')\n",
        "\n",
        "# 4. Excel 파일로 저장\n",
        "#oldest_members.to_excel('result_vip_member.xlsx', index=False)\n"
      ],
      "metadata": {
        "id": "iGGStwhmype3"
      },
      "execution_count": null,
      "outputs": []
    },
    {
      "cell_type": "code",
      "source": [
        "df"
      ],
      "metadata": {
        "id": "rGLcn6ipyLGr"
      },
      "execution_count": null,
      "outputs": []
    }
  ],
  "metadata": {
    "colab": {
      "provenance": []
    },
    "kernelspec": {
      "display_name": "Python 3",
      "name": "python3"
    },
    "language_info": {
      "name": "python"
    }
  },
  "nbformat": 4,
  "nbformat_minor": 0
}